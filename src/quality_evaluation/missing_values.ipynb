{
 "cells": [
  {
   "cell_type": "markdown",
   "metadata": {},
   "source": [
    "# Missing values report\n",
    "This notebook contains functions to create a report of missing values in each column of the dataset.\n",
    "\n",
    "## Input and output files:\n",
    "- **Input**: data/educatec_data/merged_educatec_moodle.csv\n",
    "- **Output**: data/working_data/missing_values_report.csv\n",
    "\n",
    "The format of the output CSV file is:\n",
    "\n",
    "    column: Name of the column\n",
    "    missing_count: Number of missing values\n",
    "    missing_percentage: Percentage of missing values"
   ]
  },
  {
   "cell_type": "code",
   "execution_count": 6,
   "metadata": {},
   "outputs": [],
   "source": [
    "\n",
    "import os\n",
    "import pandas as pd\n",
    "from pathlib import Path\n",
    "\n",
    "def load_data(file_path):\n",
    "    \"\"\"\n",
    "    Load the csv file from file_path\n",
    "    :param file_path: Path - path to the csv file\n",
    "    :return: pd.DataFrame - loaded dataframe\n",
    "    \"\"\"\n",
    "    return pd.read_csv(file_path)"
   ]
  },
  {
   "cell_type": "markdown",
   "metadata": {},
   "source": [
    "Identify and report the quantity and proportion of missing values in each column"
   ]
  },
  {
   "cell_type": "code",
   "execution_count": 7,
   "metadata": {},
   "outputs": [],
   "source": [
    "def missing_values_report(df):\n",
    "    # Replace 'Sin respuesta' and 'Sin fecha' with NaN\n",
    "    df.replace(['Sin respuesta', 'Sin fecha', 0, '0',''], pd.NA, inplace=True)\n",
    "    \n",
    "    # Calculate missing data\n",
    "    missing_data = df.isnull().sum().reset_index()\n",
    "    missing_data.columns = ['Column', 'Missing Count']\n",
    "    missing_data['Missing Percentage'] = ((missing_data['Missing Count'] / len(df)) * 100).round(2).astype(str) + '%'\n",
    "    return missing_data"
   ]
  },
  {
   "cell_type": "markdown",
   "metadata": {},
   "source": [
    "Create the report and save it"
   ]
  },
  {
   "cell_type": "code",
   "execution_count": 8,
   "metadata": {},
   "outputs": [],
   "source": [
    "def reports(input_data_path,output_data_path):\n",
    "    # Load data\n",
    "    dataset = load_data(input_data_path)\n",
    "\n",
    "    # Generate the report of missing values\n",
    "    missing_report = missing_values_report(dataset)\n",
    "\n",
    "    # Save the report to a csv file\n",
    "    missing_report.to_csv(output_data_path, index=False)\n",
    "    return missing_report"
   ]
  },
  {
   "cell_type": "markdown",
   "metadata": {},
   "source": [
    "Configuramos rutas realtivas para los directorios"
   ]
  },
  {
   "cell_type": "code",
   "execution_count": 9,
   "metadata": {},
   "outputs": [
    {
     "name": "stdout",
     "output_type": "stream",
     "text": [
      "Educatec Directory: /Users/administrador/Downloads/Leaders4Edu/data/educatec_data\n",
      "Moodle Directory: /Users/administrador/Downloads/Leaders4Edu/data/moodle_data\n",
      "Working Directory: /Users/administrador/Downloads/Leaders4Edu/data/working_data\n"
     ]
    }
   ],
   "source": [
    "# Configurar rutas relativas para los directorios de datos\n",
    "educatec_directory = os.path.join(os.getcwd(), \"..\", \"..\", \"data\", \"educatec_data\")\n",
    "moodle_directory = os.path.join(os.getcwd(), \"..\", \"..\", \"data\", \"moodle_data\")\n",
    "working_directory = os.path.join(os.getcwd(), \"..\", \"..\", \"data\", \"working_data\")\n",
    "\n",
    "# Convertir a objetos Path y resolver las rutas\n",
    "educatec_directory_path = Path(educatec_directory).resolve()\n",
    "moodle_directory_path = Path(moodle_directory).resolve()\n",
    "working_directory_path = Path(working_directory).resolve()\n",
    "\n",
    "# Imprimir las rutas para verificar\n",
    "print(\"Educatec Directory:\", educatec_directory_path)\n",
    "print(\"Moodle Directory:\", moodle_directory_path)\n",
    "print(\"Working Directory:\", working_directory_path)"
   ]
  },
  {
   "cell_type": "markdown",
   "metadata": {},
   "source": [
    "Main function"
   ]
  },
  {
   "cell_type": "code",
   "execution_count": 11,
   "metadata": {},
   "outputs": [],
   "source": [
    "\n",
    "def main():\n",
    "    # Paths\n",
    "    base_data_path = Path(\"data\")\n",
    "\n",
    "    input_data_path = educatec_directory_path / \"educatec.csv\"\n",
    "    output_data_path = working_directory_path / \"missing_values_report_educatec.csv\"\n",
    "    reports(input_data_path,output_data_path)\n",
    "\n",
    "    input_data_path = moodle_directory_path / \"course_modules_completion.csv\"\n",
    "    output_data_path = working_directory_path / \"missing_values_report_moodle_completion.csv\"\n",
    "    reports(input_data_path,output_data_path)\n",
    "\n",
    "    input_data_path = moodle_directory_path / \"course_modules.csv\"\n",
    "    output_data_path = working_directory_path / \"missing_values_report_moodle_course.csv\"\n",
    "    reports(input_data_path,output_data_path)\n",
    "\n",
    "    input_data_path = moodle_directory_path / \"user_info_data.csv\"\n",
    "    output_data_path = working_directory_path / \"missing_values_report_user_info_data.csv\"\n",
    "    reports(input_data_path,output_data_path)\n",
    "\n",
    "    input_data_path = moodle_directory_path / \"users.csv\"\n",
    "    output_data_path = working_directory_path / \"missing_values_report_users.csv\"\n",
    "    reports(input_data_path,output_data_path)\n",
    "\n",
    "if __name__ == \"__main__\":\n",
    "    main()"
   ]
  }
 ],
 "metadata": {
  "kernelspec": {
   "display_name": "Python 3",
   "language": "python",
   "name": "python3"
  },
  "language_info": {
   "codemirror_mode": {
    "name": "ipython",
    "version": 3
   },
   "file_extension": ".py",
   "mimetype": "text/x-python",
   "name": "python",
   "nbconvert_exporter": "python",
   "pygments_lexer": "ipython3",
   "version": "3.9.18"
  }
 },
 "nbformat": 4,
 "nbformat_minor": 2
}
