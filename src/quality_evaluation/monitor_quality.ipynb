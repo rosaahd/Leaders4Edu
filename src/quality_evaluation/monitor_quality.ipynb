{
 "cells": [
  {
   "cell_type": "markdown",
   "metadata": {},
   "source": [
    "# Data Quality Monitoring\n",
    "This notebook contains functions to monitor data quality in various datasets and send notifications to Firebase Realtime Database if any issues are detected.\n",
    "\n",
    "## Input and Output Files:\n",
    "- **Input:** Various CSV files located in `data/working_data` and `data/moodle_data`\n",
    "- **Output:** Notifications sent to Firebase Realtime Database\n"
   ]
  },
  {
   "cell_type": "code",
   "execution_count": 5,
   "metadata": {},
   "outputs": [],
   "source": [
    "import pandas as pd\n",
    "import firebase_admin\n",
    "from firebase_admin import credentials, db\n",
    "from pathlib import Path\n",
    "import datetime\n",
    "import os\n",
    "from pathlib import Path\n",
    "\n",
    "def load_data(file_path):\n",
    "    \"\"\"\n",
    "    Load the csv file from file_path\n",
    "    :param file_path: Path - path to the csv file\n",
    "    :return: pd.DataFrame - loaded dataframe\n",
    "    \"\"\"\n",
    "    return pd.read_csv(file_path)"
   ]
  },
  {
   "cell_type": "markdown",
   "metadata": {},
   "source": [
    "Check for data quality issues in the dataframe, such as ensuring 'nota1' and 'nota2' are numeric and within the valid range, and checking for missing values."
   ]
  },
  {
   "cell_type": "code",
   "execution_count": 6,
   "metadata": {},
   "outputs": [],
   "source": [
    "# Function to monitor data quality\n",
    "def monitor_data_quality(df):\n",
    "    problems = []\n",
    "\n",
    "    # Ensure nota1 and nota2 are numeric\n",
    "    df['nota1'] = pd.to_numeric(df['nota1'], errors='coerce')\n",
    "    df['nota2'] = pd.to_numeric(df['nota2'], errors='coerce')\n",
    "\n",
    "    # Validity check\n",
    "    if (df['nota1'] < 0).any() or (df['nota1'] > 5).any():\n",
    "        problems.append('nota1 out of range 0-5')\n",
    "\n",
    "    if (df['nota2'] < 0).any() or (df['nota2'] > 5).any():\n",
    "        problems.append('nota2 out of range 0-5')\n",
    "\n",
    "    # Completeness check\n",
    "    if df['nota1'].isnull().any() or df['nota2'].isnull().any():\n",
    "        problems.append('Missing values in nota1 or nota2')\n",
    "\n",
    "    return problems"
   ]
  },
  {
   "cell_type": "markdown",
   "metadata": {},
   "source": [
    "Send the detected data quality issues to Firebase Realtime Database.\n"
   ]
  },
  {
   "cell_type": "code",
   "execution_count": 7,
   "metadata": {},
   "outputs": [],
   "source": [
    "# Function to send notifications to Firebase Realtime Database\n",
    "def send_notification_to_firebase(problems):\n",
    "    if not problems:\n",
    "        print(\"No problems detected.\")\n",
    "        return\n",
    "\n",
    "    # Firebase configuration\n",
    "    cred_path = '/Users/administrador/Downloads/Leaders4Edu/tfg-rosa-firebase-adminsdk-85p5h-47a80e26da.json'\n",
    "    \n",
    "    # Initialize Firebase app\n",
    "    cred = credentials.Certificate(cred_path)\n",
    "    firebase_admin.initialize_app(cred, {\n",
    "        'databaseURL': 'https://tfg-rosa-default-rtdb.firebaseio.com/' \n",
    "    })\n",
    "    \n",
    "    # Reference to the database\n",
    "    ref = db.reference('data_quality_issues')\n",
    "\n",
    "    # Data to be added\n",
    "    data = {\n",
    "        \"timestamp\": datetime.datetime.now(datetime.UTC).isoformat(),\n",
    "        \"problems\": problems\n",
    "    }\n",
    "\n",
    "    # Add a document to Realtime Database\n",
    "    try:\n",
    "        ref.push(data)\n",
    "        print(\"Data quality issue added successfully.\")\n",
    "    except Exception as e:\n",
    "        print(f\"Failed to add data quality issue: {e}\")"
   ]
  },
  {
   "cell_type": "markdown",
   "metadata": {},
   "source": [
    "Configuramos rutas realtivas para los directorios"
   ]
  },
  {
   "cell_type": "code",
   "execution_count": 8,
   "metadata": {},
   "outputs": [
    {
     "name": "stdout",
     "output_type": "stream",
     "text": [
      "Educatec Directory: /Users/administrador/Downloads/Leaders4Edu/data/educatec_data\n",
      "Moodle Directory: /Users/administrador/Downloads/Leaders4Edu/data/moodle_data\n",
      "Working Directory: /Users/administrador/Downloads/Leaders4Edu/data/working_data\n"
     ]
    }
   ],
   "source": [
    "# Configurar rutas relativas para los directorios de datos\n",
    "educatec_directory = os.path.join(os.getcwd(), \"..\", \"..\", \"data\", \"educatec_data\")\n",
    "moodle_directory = os.path.join(os.getcwd(), \"..\", \"..\", \"data\", \"moodle_data\")\n",
    "working_directory = os.path.join(os.getcwd(), \"..\", \"..\", \"data\", \"working_data\")\n",
    "\n",
    "# Convertir a objetos Path y resolver las rutas\n",
    "educatec_directory_path = Path(educatec_directory).resolve()\n",
    "moodle_directory_path = Path(moodle_directory).resolve()\n",
    "working_directory_path = Path(working_directory).resolve()\n",
    "\n",
    "# Imprimir las rutas para verificar\n",
    "print(\"Educatec Directory:\", educatec_directory_path)\n",
    "print(\"Moodle Directory:\", moodle_directory_path)\n",
    "print(\"Working Directory:\", working_directory_path)"
   ]
  },
  {
   "cell_type": "markdown",
   "metadata": {},
   "source": [
    "Main function"
   ]
  },
  {
   "cell_type": "code",
   "execution_count": 10,
   "metadata": {},
   "outputs": [],
   "source": [
    "def main():\n",
    "    \"\"\"\n",
    "    Main function\n",
    "    :return: None\n",
    "    \"\"\"\n",
    "    # Paths\n",
    "    base_data_path = Path(\"data\")\n",
    "\n",
    "    input_data_path = working_directory_path / \"cleaned_data_educatec.csv\"\n",
    "    df = load_data(input_data_path)\n",
    "    problems = monitor_data_quality(df)\n",
    "\n",
    "    if problems:\n",
    "        send_notification_to_firebase(problems)\n",
    "\n",
    "    '''\n",
    "    input_data_path = base_data_path / \"moodle_data\" / \"course_modules_completion.csv\"\n",
    "    df = load_data(input_data_path)\n",
    "    problems = monitor_data_quality(df)\n",
    "    if problems:\n",
    "        send_notification_to_firebase(problems)\n",
    "\n",
    "    input_data_path = base_data_path / \"moodle_data\" / \"course_modules.csv\"\n",
    "    df = load_data(input_data_path)\n",
    "    problems = monitor_data_quality(df)\n",
    "    if problems:\n",
    "        send_notification_to_firebase(problems)\n",
    "\n",
    "    input_data_path = base_data_path / \"moodle_data\" / \"user_info_data.csv\"\n",
    "    df = load_data(input_data_path)\n",
    "    problems = monitor_data_quality(df)\n",
    "    if problems:\n",
    "        send_notification_to_firebase(problems)\n",
    "\n",
    "    input_data_path = base_data_path / \"moodle_data\" / \"users.csv\"\n",
    "    df = load_data(input_data_path)\n",
    "    problems = monitor_data_quality(df)\n",
    "    if problems:\n",
    "        send_notification_to_firebase(problems)\n",
    "    '''\n",
    "\n",
    "if __name__ == \"__main__\":\n",
    "    main()"
   ]
  }
 ],
 "metadata": {
  "kernelspec": {
   "display_name": "Python 3",
   "language": "python",
   "name": "python3"
  },
  "language_info": {
   "codemirror_mode": {
    "name": "ipython",
    "version": 3
   },
   "file_extension": ".py",
   "mimetype": "text/x-python",
   "name": "python",
   "nbconvert_exporter": "python",
   "pygments_lexer": "ipython3",
   "version": "3.9.18"
  }
 },
 "nbformat": 4,
 "nbformat_minor": 2
}
